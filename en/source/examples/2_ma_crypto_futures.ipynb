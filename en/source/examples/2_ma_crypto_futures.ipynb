{
 "cells": [
  {
   "cell_type": "markdown",
   "metadata": {},
   "source": [
    "# 2 MA Crypto Futures Strategy"
   ]
  },
  {
   "cell_type": "markdown",
   "metadata": {},
   "source": [
    "This is a simple strategy based on 2 MAs for crypto futures."
   ]
  },
  {
   "cell_type": "code",
   "execution_count": 1,
   "metadata": {},
   "outputs": [
    {
     "data": {
      "application/javascript": [
       "IPython.OutputArea.prototype._should_scroll = function(lines) { return false; }\n",
       "// disable widget scrolling\n"
      ],
      "text/plain": [
       "<IPython.core.display.Javascript object>"
      ]
     },
     "metadata": {},
     "output_type": "display_data"
    }
   ],
   "source": [
    "%%javascript\n",
    "IPython.OutputArea.prototype._should_scroll = function(lines) { return false; }\n",
    "// disable widget scrolling"
   ]
  },
  {
   "cell_type": "code",
   "execution_count": 2,
   "metadata": {},
   "outputs": [
    {
     "data": {
      "text/html": [
       "        <script type=\"text/javascript\">\n",
       "        window.PlotlyConfig = {MathJaxConfig: 'local'};\n",
       "        if (window.MathJax) {MathJax.Hub.Config({SVG: {font: \"STIX-Web\"}});}\n",
       "        if (typeof require !== 'undefined') {\n",
       "        require.undef(\"plotly\");\n",
       "        requirejs.config({\n",
       "            paths: {\n",
       "                'plotly': ['https://cdn.plot.ly/plotly-latest.min']\n",
       "            }\n",
       "        });\n",
       "        require(['plotly'], function(Plotly) {\n",
       "            window._Plotly = Plotly;\n",
       "        });\n",
       "        }\n",
       "        </script>\n",
       "        "
      ]
     },
     "metadata": {},
     "output_type": "display_data"
    },
    {
     "name": "stdout",
     "output_type": "stream",
     "text": [
      "Run last pass...\n",
      "Load data...\n"
     ]
    },
    {
     "name": "stderr",
     "output_type": "stream",
     "text": [
      "100% (15272 of 15272) |##################| Elapsed Time: 0:00:00 Time:  0:00:00\n"
     ]
    },
    {
     "name": "stdout",
     "output_type": "stream",
     "text": [
      "Run pass...\n",
      "Ok.\n",
      "---\n",
      "Run first pass...\n",
      "Load data...\n"
     ]
    },
    {
     "name": "stderr",
     "output_type": "stream",
     "text": [
      "100% (12032 of 12032) |##################| Elapsed Time: 0:00:00 Time:  0:00:00\n"
     ]
    },
    {
     "name": "stdout",
     "output_type": "stream",
     "text": [
      "Run pass...\n",
      "Ok.\n",
      "---\n",
      "Load full data...\n"
     ]
    },
    {
     "name": "stderr",
     "output_type": "stream",
     "text": [
      "100% (118112 of 118112) |################| Elapsed Time: 0:00:00 Time:  0:00:00\n"
     ]
    },
    {
     "name": "stdout",
     "output_type": "stream",
     "text": [
      "---\n",
      "Run iterations...\n",
      "\n"
     ]
    },
    {
     "name": "stderr",
     "output_type": "stream",
     "text": [
      "100% (1768 of 1768) |####################| Elapsed Time: 0:00:10 Time:  0:00:10\n"
     ]
    },
    {
     "name": "stdout",
     "output_type": "stream",
     "text": [
      "Merge outputs...\n",
      "Load data for cleanup and analysis...\n"
     ]
    },
    {
     "name": "stderr",
     "output_type": "stream",
     "text": [
      "100% (118112 of 118112) |################| Elapsed Time: 0:00:00 Time:  0:00:00\n"
     ]
    },
    {
     "name": "stdout",
     "output_type": "stream",
     "text": [
      "Check missed dates...\n",
      "Ok.\n",
      "Normalization...\n",
      "Done.\n",
      "Write output: /root/fractions.nc.gz\n",
      "---\n",
      "Analyze results...\n",
      "Check...\n",
      "Check missed dates...\n",
      "Ok.\n",
      "Check sharpe ratio.\n",
      "Ok.\n",
      "Check correlation.\n",
      "\n"
     ]
    },
    {
     "name": "stderr",
     "output_type": "stream",
     "text": [
      "WARNING! This strategy correlates with other strategies.\n"
     ]
    },
    {
     "name": "stdout",
     "output_type": "stream",
     "text": [
      "The number of systems with a larger Sharpe ratio and correlation larger than 0.8: 1\n",
      "The max correlation value (with systems with a larger Sharpe ratio): 1.0\n",
      "Current sharpe ratio(5y): 1.8684642979815371\n",
      "\n",
      "---\n",
      "Calc global stats...\n",
      "---\n",
      "Calc stats per asset...\n",
      "Build plots...\n",
      "---\n",
      "Select the asset (or leave blank to display the overall stats):\n"
     ]
    },
    {
     "data": {
      "application/vnd.jupyter.widget-view+json": {
       "model_id": "cdb47fa7ed314c6a961b0c378b9df7c7",
       "version_major": 2,
       "version_minor": 0
      },
      "text/plain": [
       "interactive(children=(Combobox(value='', description='asset', options=('', 'BTC')), Output()), _dom_classes=('…"
      ]
     },
     "metadata": {},
     "output_type": "display_data"
    }
   ],
   "source": [
    "import xarray as xr\n",
    "\n",
    "import qnt.ta as qnta\n",
    "import qnt.backtester as qnbt\n",
    "import qnt.data as qndata\n",
    "\n",
    "\n",
    "def load_data(period):\n",
    "    return qndata.cryptofutures.load_data(tail=period)\n",
    "\n",
    "\n",
    "def strategy(data):\n",
    "    close = data.sel(field='close')\n",
    "    ma_slow = qnta.lwma(close, 200).isel(time=-1)\n",
    "    ma_fast = qnta.lwma(close, 50).isel(time=-1)\n",
    "    return xr.where(ma_fast > ma_slow, 1, 0)\n",
    "\n",
    "\n",
    "weights = qnbt.backtest(\n",
    "    competition_type=\"cryptofutures\",\n",
    "    load_data=load_data,\n",
    "    lookback_period=365,\n",
    "    start_date='2014-01-01',\n",
    "    strategy=strategy\n",
    ")\n"
   ]
  },
  {
   "cell_type": "markdown",
   "metadata": {},
   "source": [
    "At this stage code is ready for submission. Just click on the submission button in your account page and we will evaluate your strategy live on our servers!"
   ]
  },
  {
   "cell_type": "markdown",
   "metadata": {},
   "source": [
    "---\n",
    "There is a fast(one-pass) implementation. Use can use this approach to prototype your strategy. Beware, it is easy to create a looking forward strategy which will produce irrelevant output. So, verify your strategy with `qnt.backtester` when you finish your prototype."
   ]
  },
  {
   "cell_type": "markdown",
   "metadata": {},
   "source": [
    "```python\n",
    "import xarray as xr\n",
    "\n",
    "import qnt.ta as qnta\n",
    "import qnt.stats as qns\n",
    "import qnt.data as qndata\n",
    "import qnt.output as qnout\n",
    "\n",
    "# load data\n",
    "data = qndata.cryptofutures.load_data(min_date='2013-01-01')\n",
    "\n",
    "#calc weights\n",
    "close = data.sel(field='close')\n",
    "ma_slow = qnta.lwma(close, 200)\n",
    "ma_fast = qnta.lwma(close, 50)\n",
    "weights = xr.where(ma_fast > ma_slow, 1, 0)\n",
    "weights = qnout.clean(weights, data)\n",
    "\n",
    "#check\n",
    "qnout.check(weights, data)\n",
    "\n",
    "# write results\n",
    "qnout.write(weights)\n",
    "\n",
    "# calc stats\n",
    "stats = qns.calc_stat(data, weights.sel(time=slice('2014-01-01',None)))\n",
    "stats.to_pandas().tail()\n",
    "```"
   ]
  },
  {
   "cell_type": "markdown",
   "metadata": {},
   "source": [
    "  "
   ]
  }
 ],
 "metadata": {
  "kernelspec": {
   "display_name": "Python 3",
   "language": "python",
   "name": "python3"
  },
  "language_info": {
   "codemirror_mode": {
    "name": "ipython",
    "version": 3
   },
   "file_extension": ".py",
   "mimetype": "text/x-python",
   "name": "python",
   "nbconvert_exporter": "python",
   "pygments_lexer": "ipython3",
   "version": "3.7.9"
  }
 },
 "nbformat": 4,
 "nbformat_minor": 2
}
