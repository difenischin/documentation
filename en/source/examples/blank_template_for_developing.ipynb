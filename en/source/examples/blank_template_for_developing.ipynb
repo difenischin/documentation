{
 "cells": [
  {
   "cell_type": "markdown",
   "metadata": {},
   "source": [
    "# Blank Template for Developing"
   ]
  },
  {
   "cell_type": "code",
   "execution_count": 1,
   "metadata": {},
   "outputs": [
    {
     "data": {
      "text/html": [
       "        <script type=\"text/javascript\">\n",
       "        window.PlotlyConfig = {MathJaxConfig: 'local'};\n",
       "        if (window.MathJax) {MathJax.Hub.Config({SVG: {font: \"STIX-Web\"}});}\n",
       "        if (typeof require !== 'undefined') {\n",
       "        require.undef(\"plotly\");\n",
       "        requirejs.config({\n",
       "            paths: {\n",
       "                'plotly': ['https://cdn.plot.ly/plotly-latest.min']\n",
       "            }\n",
       "        });\n",
       "        require(['plotly'], function(Plotly) {\n",
       "            window._Plotly = Plotly;\n",
       "        });\n",
       "        }\n",
       "        </script>\n",
       "        "
      ]
     },
     "metadata": {},
     "output_type": "display_data"
    }
   ],
   "source": [
    "import xarray as xr\n",
    "import numpy as np\n",
    "import pandas as pd\n",
    "\n",
    "import qnt.data     as qndata\n",
    "import qnt.stepper  as qnstepper\n",
    "import qnt.stats    as qnstats\n",
    "import qnt.graph    as qngraph\n",
    "import qnt.output   as qnout\n",
    "import qnt.exposure as qne"
   ]
  },
  {
   "cell_type": "code",
   "execution_count": 2,
   "metadata": {},
   "outputs": [],
   "source": [
    "#load data\n",
    "data = qndata.futures.load_data(tail = 8*365, dims = (\"time\", \"field\", \"asset\"))\n",
    "# data = qndata.cryptofutures.load_data(tail = 8*365, dims = (\"time\", \"field\", \"asset\"))\n",
    "# data = qndata.crypto.load_data(tail = 8*365, dims = (\"time\", \"field\", \"asset\"))\n",
    "# data = qndata.stocks.load_data(tail = 8*365, dims = (\"time\", \"field\", \"asset\"))"
   ]
  },
  {
   "cell_type": "code",
   "execution_count": 3,
   "metadata": {},
   "outputs": [],
   "source": [
    "output = xr.ones_like(data.sel(field='close'))\n",
    "# output = output*data.sel(field='is_liquid') # for stocks only"
   ]
  },
  {
   "cell_type": "code",
   "execution_count": 4,
   "metadata": {},
   "outputs": [
    {
     "name": "stdout",
     "output_type": "stream",
     "text": [
      "Check missed dates...\n",
      "Ok.\n",
      "Normalization...\n",
      "Done.\n"
     ]
    }
   ],
   "source": [
    "output = qnout.clean(output, data) # removes errors from the output\n",
    "# ensure that there are no red warnings"
   ]
  },
  {
   "cell_type": "code",
   "execution_count": 5,
   "metadata": {},
   "outputs": [
    {
     "name": "stdout",
     "output_type": "stream",
     "text": [
      "Check missed dates...\n",
      "Ok.\n",
      "Check sharpe ratio.\n"
     ]
    },
    {
     "name": "stderr",
     "output_type": "stream",
     "text": [
      "ERROR! The sharpe ratio is too low. 0.06980453161053879 < 1\n"
     ]
    },
    {
     "name": "stdout",
     "output_type": "stream",
     "text": [
      "Check correlation.\n",
      "\n"
     ]
    },
    {
     "name": "stderr",
     "output_type": "stream",
     "text": [
      "WARNING! This strategy correlates with other strategies.\n"
     ]
    },
    {
     "name": "stdout",
     "output_type": "stream",
     "text": [
      "The number of systems with a larger Sharpe ratio and correlation larger than 0.8: 2\n",
      "The max correlation value (with systems with a larger Sharpe ratio): 0.9999962384082681\n",
      "Current sharpe ratio(5y): 0.6009273732503595\n",
      "\n"
     ]
    }
   ],
   "source": [
    "# check output\n",
    "qnout.check(output, data)"
   ]
  },
  {
   "cell_type": "code",
   "execution_count": 6,
   "metadata": {},
   "outputs": [],
   "source": [
    "# display statistic\n",
    "# stat = qnstats.calc_stat(data, output)\n",
    "# display(stat.to_pandas().tail())"
   ]
  },
  {
   "cell_type": "code",
   "execution_count": 7,
   "metadata": {},
   "outputs": [
    {
     "name": "stdout",
     "output_type": "stream",
     "text": [
      "Write output: /root/fractions.nc.gz\n"
     ]
    }
   ],
   "source": [
    "# write output data\n",
    "qnout.write(output)"
   ]
  }
 ],
 "metadata": {
  "kernelspec": {
   "display_name": "Python 3",
   "language": "python",
   "name": "python3"
  },
  "language_info": {
   "codemirror_mode": {
    "name": "ipython",
    "version": 3
   },
   "file_extension": ".py",
   "mimetype": "text/x-python",
   "name": "python",
   "nbconvert_exporter": "python",
   "pygments_lexer": "ipython3",
   "version": "3.7.9"
  }
 },
 "nbformat": 4,
 "nbformat_minor": 4
}
