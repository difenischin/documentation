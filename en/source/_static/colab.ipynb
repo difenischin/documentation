{
  "nbformat": 4,
  "nbformat_minor": 0,
  "metadata": {
    "colab": {
      "name": "colab.ipynb",
      "provenance": [],
      "collapsed_sections": []
    },
    "kernelspec": {
      "display_name": "Python 3",
      "name": "python3"
    },
    "language_info": {
      "name": "python"
    }
  },
  "cells": [
    {
      "cell_type": "markdown",
      "metadata": {
        "id": "7uxq1sTVp5Rg"
      },
      "source": [
        "# The environment\n",
        "\n",
        "The next three code cells contains commands that will configure your Coogle Colab environment. \n",
        "\n",
        "When you transfer the strategy to Quantiacs, remove these cells.\n",
        "\n",
        "They are not relevant for the Quantiacs platform."
      ]
    },
    {
      "cell_type": "markdown",
      "metadata": {
        "id": "2UbbLYWhvB3N"
      },
      "source": [
        "At first, setup the toolbox from github using pip:"
      ]
    },
    {
      "cell_type": "code",
      "metadata": {
        "id": "zzmgqy8bp0cJ"
      },
      "source": [
        "###DEBUG###\n",
        "\n",
        "! pip install git+git://github.com/quantiacs/toolbox.git\n",
        "\n",
        "# decrease height\n",
        "from IPython.display import Javascript\n",
        "display(Javascript('google.colab.output.setIframeHeight(0, true, {maxHeight: 100})'))"
      ],
      "execution_count": null,
      "outputs": []
    },
    {
      "cell_type": "markdown",
      "metadata": {
        "id": "vo4g_P6gvMK3"
      },
      "source": [
        "Then install TA-Lib (indicators library) if you need it.\n",
        "\n",
        "Instead of TA-Lib you can use qnt.ta or another library. In this case, skip the next cell.\n",
        "\n",
        "Note that the installation can take several minutes."
      ]
    },
    {
      "cell_type": "code",
      "metadata": {
        "id": "nB66AYKqrpha"
      },
      "source": [
        "###DEBUG###\n",
        "!wget http://prdownloads.sourceforge.net/ta-lib/ta-lib-0.4.0-src.tar.gz\n",
        "!tar -xzvf ta-lib-0.4.0-src.tar.gz\n",
        "%cd ta-lib\n",
        "!./configure --prefix=/usr\n",
        "! make\n",
        "!make install\n",
        "!pip install Ta-Lib\n",
        "\n",
        "# test import\n",
        "import talib\n",
        "\n",
        "# decrease height\n",
        "from IPython.display import Javascript\n",
        "display(Javascript('google.colab.output.setIframeHeight(0, true, {maxHeight: 100})'))"
      ],
      "execution_count": null,
      "outputs": []
    },
    {
      "cell_type": "markdown",
      "metadata": {
        "id": "eXxNGBsqwB0-"
      },
      "source": [
        "Finally specify the api key and disable interactive charts.\n",
        "\n",
        "You can find the api key in [your profile](https://quantiacs.com/personalpage/homepage).\n",
        "\n",
        "We disable interactive charts in the library because interact+plotly do not work correctly in Google Colab."
      ]
    },
    {
      "cell_type": "code",
      "metadata": {
        "id": "UoIR0WnlrxR7"
      },
      "source": [
        "###DEBUG###\n",
        "import os\n",
        "\n",
        "os.environ['API_KEY'] = \"your api key here\" \n",
        "os.environ['NONINTERACT'] = 'True' "
      ],
      "execution_count": 3,
      "outputs": []
    },
    {
      "cell_type": "markdown",
      "metadata": {
        "id": "INWstsHLs5pO"
      },
      "source": [
        "# The strategy\n",
        "\n",
        "The next cell contains the strategy code itself."
      ]
    },
    {
      "cell_type": "code",
      "metadata": {
        "id": "H8cKyVQVHKni"
      },
      "source": [
        "import xarray as xr\n",
        "\n",
        "import qnt.stats as qnstats\n",
        "import qnt.data as qndata\n",
        "import qnt.output as qnout\n",
        "import qnt.ta as qnta\n",
        "import qnt.backtester as qnbt\n",
        "import qnt.graph as qngraph\n",
        "\n",
        "\n",
        "def strategy(data):\n",
        "    # calc weights:\n",
        "    close = data.sel(field=\"close\")\n",
        "    ma_slow = qnta.lwma(close, 250)\n",
        "    ma_fast = qnta.lwma(close, 50)\n",
        "    return xr.where(ma_fast > ma_slow, 1, -1)\n",
        "\n",
        "\n",
        "# # SINGLE-PASS\n",
        "# # ---\n",
        "# # This is fast implementation, but it can easily become looking forward (common problem).\n",
        "# # Use this approach for research and optimization. And use multi-pass to detect looking forward.\n",
        "# data = qndata.futures.load_data(min_date=\"2005-01-01\")  # load data\n",
        "\n",
        "# output = strategy(data)\n",
        "# output = qnout.clean(output, data) # fix common errors\n",
        "\n",
        "# qnout.check(output, data) # check that weights are correct:\n",
        "# qnout.write(output) # write results, necessary for submission:\n",
        "\n",
        "# stats = qnstats.calc_stat(data, output.sel(time=slice(\"2006-01-01\", None))) # calc stats\n",
        "# print(stats.to_pandas().tail())\n",
        "# # qngraph.make_major_plots(stats) # works in jupyter\n",
        "# # ---\n",
        "\n",
        "\n",
        "# MULTI-PASS\n",
        "# ---\n",
        "# Use this approach to make sure that your strategy is not looking forward.\n",
        "weights = qnbt.backtest(\n",
        "    competition_type=\"futures\",  # Futures contest\n",
        "    lookback_period=365,  # lookback in calendar days\n",
        "    start_date=\"2006-01-01\",\n",
        "    strategy=strategy,\n",
        "    analyze=True,\n",
        "    build_plots=True\n",
        ")\n",
        "\n",
        "# ---"
      ],
      "execution_count": null,
      "outputs": []
    },
    {
      "cell_type": "markdown",
      "metadata": {
        "id": "kjb_RTwVw0Jr"
      },
      "source": [
        "#Submit your strategy\n",
        "\n",
        "Finally, you can transfer this notebook to Quantiacs.\n",
        "\n",
        "Just create a new strategy notebook in [your area](https://quantiacs.com/personalpage/strategies) and upload this notebook to this new environment (replace `strategy.ipynb`).\n",
        "\n",
        "Don't forget to **remove code cells from \"The environment\"** section.\n",
        "\n",
        "If you have any special external dependency which is absent in Quantiacs jupyter environment, add their installation code to `init.ipynb`.\n",
        "\n",
        "Then test and submit your strategy."
      ]
    }
  ]
}
